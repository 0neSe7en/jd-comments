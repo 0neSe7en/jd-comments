{
 "cells": [
  {
   "cell_type": "code",
   "execution_count": 3,
   "metadata": {
    "collapsed": true
   },
   "outputs": [],
   "source": [
    "%matplotlib inline\n",
    "from pymongo import MongoClient\n",
    "from bson.objectid import ObjectId\n",
    "import csv\n",
    "from collections import defaultdict\n",
    "import pandas as pd\n",
    "import numpy as np\n",
    "import jieba\n",
    "import matplotlib\n",
    "from matplotlib.widgets import Slider\n",
    "import matplotlib.pyplot as plt\n",
    "mongo_client = MongoClient()\n",
    "db = mongo_client.jd\n",
    "product_col = db['products']\n",
    "comment_col = db['comments']\n",
    "user_col = db['users']\n",
    "tags_col = db['tags']\n",
    "training_col = db['training']\n",
    "training = open('jd-comments/new/training.csv', mode='r')\n",
    "reader = csv.reader(training)"
   ]
  },
  {
   "cell_type": "code",
   "execution_count": 8,
   "metadata": {
    "collapsed": false
   },
   "outputs": [],
   "source": [
    "for row in reader:\n",
    "    comment = dict(comment_col.find_one({'_id': ObjectId(row[1])}))\n",
    "    comment['type'] = int(row[0])\n",
    "    training_col.insert_one(comment)"
   ]
  },
  {
   "cell_type": "code",
   "execution_count": 13,
   "metadata": {
    "collapsed": false
   },
   "outputs": [
    {
     "name": "stdout",
     "output_type": "stream",
     "text": [
      "dict_keys(['target', 'DESCR', 'target_names', 'images', 'data'])\n",
      "[[  0.   0.   5. ...,   0.   0.   0.]\n",
      " [  0.   0.   0. ...,  10.   0.   0.]\n",
      " [  0.   0.   0. ...,  16.   9.   0.]\n",
      " ..., \n",
      " [  0.   0.   1. ...,   6.   0.   0.]\n",
      " [  0.   0.   2. ...,  12.   0.   0.]\n",
      " [  0.   0.  10. ...,  12.   1.   0.]]\n"
     ]
    }
   ],
   "source": [
    "from sklearn import datasets  \n",
    "iris = datasets.load_iris()  \n",
    "digits = datasets.load_digits()\n",
    "print(digits.keys())\n",
    "print(digits['data'])"
   ]
  },
  {
   "cell_type": "code",
   "execution_count": null,
   "metadata": {
    "collapsed": true
   },
   "outputs": [],
   "source": []
  }
 ],
 "metadata": {
  "kernelspec": {
   "display_name": "Python 3",
   "language": "python",
   "name": "python3"
  },
  "language_info": {
   "codemirror_mode": {
    "name": "ipython",
    "version": 3
   },
   "file_extension": ".py",
   "mimetype": "text/x-python",
   "name": "python",
   "nbconvert_exporter": "python",
   "pygments_lexer": "ipython3",
   "version": "3.5.1"
  }
 },
 "nbformat": 4,
 "nbformat_minor": 0
}
